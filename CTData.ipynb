{
 "cells": [
  {
   "cell_type": "markdown",
   "metadata": {},
   "source": [
    "# Viewing CT Scan Data In Unity\n",
    "### By Jacob Hofer\n",
    "\n",
    "In the medical field, it can be useful to obtain a 3D mesh representation of data from MRI or CT Scans. Obtaining this mesh can be done in a variety of ways, but the algorithm we will look at is marching cubes.\n",
    "\n",
    "## Mesh Creation Pipeline\n",
    "The general pipeline of generating a 3D mesh is shown below:\n",
    "\n",
    "![PipelineImage](./NotebookImages/Pipeline.png)\n",
    "\n",
    "In the pipeline, data is converted from `.nrrd` to a simpler `.txt` format to be loaded into Unity. Within Unity, marching cubes is ran on various function values, denoted `value1`, `value2`, and `value3` in the diagram, to obtain multiple meshes of the data.\n",
    "\n",
    "## Converting the .nrrd File\n",
    "We begin with an `.nrrd` file. In our case, the file [CTA-cardio.nrrd](./CTA-cardio.nrrd) will be used.\n",
    "\n",
    "In order to work with our Unity scripts, we first need to convert the file to a custom `.txt` format. This will be done via Python.\n",
    "\n",
    "As usual, we begin with importing our libraries. The only library we import is `nrrd`, installed with: \n",
    "\n",
    "```sh\n",
    "pip install pynrrd\n",
    "```\n"
   ]
  },
  {
   "cell_type": "code",
   "execution_count": 8,
   "metadata": {},
   "outputs": [],
   "source": [
    "import nrrd"
   ]
  },
  {
   "cell_type": "markdown",
   "metadata": {},
   "source": [
    "And next we tell Python what file to use. In our case [CTA-cardio.nrrd](./CTA-cardio.nrrd)."
   ]
  },
  {
   "cell_type": "code",
   "execution_count": 9,
   "metadata": {},
   "outputs": [],
   "source": [
    "filename = 'CTA-cardio.nrrd'"
   ]
  },
  {
   "cell_type": "markdown",
   "metadata": {},
   "source": [
    "Check that the file is read properly."
   ]
  },
  {
   "cell_type": "code",
   "execution_count": 10,
   "metadata": {},
   "outputs": [
    {
     "name": "stdout",
     "output_type": "stream",
     "text": [
      "(512, 512, 321)\n",
      "OrderedDict([('type', 'short'), ('dimension', 3), ('space', 'left-posterior-superior'), ('sizes', array([512, 512, 321])), ('space directions', array([[0.933594, 0.      , 0.      ],\n",
      "       [0.      , 0.933594, 0.      ],\n",
      "       [0.      , 0.      , 1.25    ]])), ('kinds', ['domain', 'domain', 'domain']), ('endian', 'little'), ('encoding', 'gzip'), ('space origin', array([-238.533267, -238.533267, -200.      ]))])\n"
     ]
    }
   ],
   "source": [
    "readdata, header = nrrd.read(filename)\n",
    "print(readdata.shape)\n",
    "print(header)"
   ]
  },
  {
   "cell_type": "markdown",
   "metadata": {},
   "source": [
    "Open a file for writing the data to. In our case we can just call it `data.txt`."
   ]
  },
  {
   "cell_type": "code",
   "execution_count": 11,
   "metadata": {},
   "outputs": [],
   "source": [
    "out_file = open('data.txt', 'w')"
   ]
  },
  {
   "cell_type": "markdown",
   "metadata": {},
   "source": [
    "Then we will write the data in a format we can easily read back into Unity later. Since there is a lot of data, this may take a while."
   ]
  },
  {
   "cell_type": "code",
   "execution_count": 12,
   "metadata": {},
   "outputs": [],
   "source": [
    "out_file.write(str(readdata.shape[0]) + '\\n')\n",
    "out_file.write(str(readdata.shape[1]) + '\\n')\n",
    "out_file.write(str(readdata.shape[2]) + '\\n')\n",
    "\n",
    "out_file.write('\\n')\n",
    "\n",
    "for x in range(readdata.shape[0]):\n",
    "    for y in range(readdata.shape[1]):\n",
    "        for z in range(readdata.shape[2]):\n",
    "            out_file.write(str(readdata[x][y][z]))\n",
    "            if (z != readdata.shape[2] - 1 or y != readdata.shape[1] - 1):\n",
    "                out_file.write(',')\n",
    "            else:\n",
    "                out_file.write('\\n')"
   ]
  },
  {
   "cell_type": "markdown",
   "metadata": {},
   "source": [
    "Finally, we close the file, and our conversion is done!"
   ]
  },
  {
   "cell_type": "code",
   "execution_count": 13,
   "metadata": {},
   "outputs": [],
   "source": [
    "out_file.close()"
   ]
  },
  {
   "cell_type": "markdown",
   "metadata": {},
   "source": [
    "## Configuring Unity\n",
    "Opening the provided [SampleScene.unity](./Assets/Scenes/SampleScene.unity) in Unity presents us with what appears to be an empty scene.\n",
    "\n",
    "However, notice we have a few `GameObjects` in our scene, notably the `DataController` and the `Mesh ####`s: \n",
    "\n",
    "![SceneObjects](./NotebookImages/SceneObjects.png)\n",
    "\n",
    "Inspecting the `DataController`, we see a field labeled `File Name`. We use this to tell Unity what `.txt` file to use for loading our raw function data. \n",
    "\n",
    "![DataController](./NotebookImages/DataController.png)\n",
    "\n",
    "Inspecting any of the `Mesh ####` objects, we see the `Data Mesher` script defining various fields.\n",
    "\n",
    "![Mesh](./NotebookImages/Mesh.png)\n",
    "\n",
    "`Resolution Scale` describes the scale to divide the marching cubes resolution by. A value of 1 will perform marching cubes for every value in our data file. A value of 10 will perform marching cubes once for every 10\\*10\\*10=1000 values in our data file.\n",
    "\n",
    "`Surface Value` describes the function value to generate a surface for. In the example data, the function ranges in `[-1024, 1024]`, so any value in that range will generate a surface. Each mesh object in the scene has a different value.\n",
    "\n",
    "`Data Controller` describes which object to obtain the data from. In our scene, we only have the one shown previously, but this allows for loading multiple data files at once.\n",
    "\n",
    "`Transform` describes the position and scaling of the output mesh. It can be useful to modify these values if the meshes overlap or display too big or small.\n",
    "\n",
    "## Running Unity\n",
    "Pressing the \"play\" button will have Unity generate the various meshes and add them into the scene. It is then easiest to navigate around using the scene view (as opposed to the game view) to investigate each of the meshes.\n",
    "\n",
    "As we can see, different function values provide different meshes, with different details. For example, the function value of `200` provides a great look at the patient's skeleton:\n",
    "\n",
    "![Skeleton](./NotebookImages/Skeleton.png)\n",
    "\n",
    "A function value of `-300` allows us to view the patient's lungs and other internal organs:\n",
    "\n",
    "![Lungs](./NotebookImages/Lungs.png)\n"
   ]
  },
  {
   "cell_type": "markdown",
   "metadata": {},
   "source": [
    "## Unity Scripts\n",
    "All the Unity C# scripts are located in the [Assets/Scripts](./Assets/Scripts/) directory. Each script is commented using C# XML format, and are summarized here.\n",
    "\n",
    "[DataController.cs](./Assets/Scripts/DataController.cs) initializes an instance of `DataLoader`, passing along the file name obtained from within the Unity Editor.\n",
    "\n",
    "[DataLoader.cs](./Assets/Scripts/DataLoader.cs) handles actually loading the data from the specified file into a 3D `float` array that can be retrieved multiple times. This prevents loading the data once for every mesh.\n",
    "\n",
    "[DataMesher.cs](./Assets/Scripts/DataMesher.cs) handles obtaining the data from the `DataLoader` and passing it along to `MarchingCubes`. It then takes the result from `MarchingCubes` and generates a mesh using Unity's API.\n",
    "\n",
    "[MarchingCubes.cs](./Assets/Scripts/MarchingCubes.cs) is an implementation of the marching cubes algorithm.\n",
    "\n",
    "## CT Data Reference\n",
    "The CT Scan data was sourced from [https://www.slicer.org/wiki/File:CTA-cardio.nrrd](https://www.slicer.org/wiki/File:CTA-cardio.nrrd)."
   ]
  }
 ],
 "metadata": {
  "kernelspec": {
   "display_name": "Python 3",
   "language": "python",
   "name": "python3"
  },
  "language_info": {
   "codemirror_mode": {
    "name": "ipython",
    "version": 3
   },
   "file_extension": ".py",
   "mimetype": "text/x-python",
   "name": "python",
   "nbconvert_exporter": "python",
   "pygments_lexer": "ipython3",
   "version": "3.9.13"
  }
 },
 "nbformat": 4,
 "nbformat_minor": 2
}
